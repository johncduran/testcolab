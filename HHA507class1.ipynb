{
  "nbformat": 4,
  "nbformat_minor": 0,
  "metadata": {
    "colab": {
      "provenance": [],
      "authorship_tag": "ABX9TyNEzaSqWvimImbu/5w9w+Wr",
      "include_colab_link": true
    },
    "kernelspec": {
      "name": "python3",
      "display_name": "Python 3"
    },
    "language_info": {
      "name": "python"
    }
  },
  "cells": [
    {
      "cell_type": "markdown",
      "metadata": {
        "id": "view-in-github",
        "colab_type": "text"
      },
      "source": [
        "<a href=\"https://colab.research.google.com/github/johncduran/testcolab/blob/main/HHA507class1.ipynb\" target=\"_parent\"><img src=\"https://colab.research.google.com/assets/colab-badge.svg\" alt=\"Open In Colab\"/></a>"
      ]
    },
    {
      "cell_type": "markdown",
      "source": [
        "#Beginning of our code"
      ],
      "metadata": {
        "id": "6bVTZhnmxthf"
      }
    },
    {
      "cell_type": "code",
      "execution_count": 2,
      "metadata": {
        "id": "e39qJcH_wJur"
      },
      "outputs": [],
      "source": [
        "def bloodpressure(systolic, diastolic):\n",
        "  total = systolic + diastolic\n",
        "  return total"
      ]
    },
    {
      "cell_type": "code",
      "source": [
        "def bloodsugar(value):\n",
        "  valuetoprint = f\"Your blood value is {value}\"\n",
        "  return valuetoprint"
      ],
      "metadata": {
        "id": "mfLDrbjwx9gs"
      },
      "execution_count": 3,
      "outputs": []
    },
    {
      "cell_type": "markdown",
      "source": [
        "#Testing Functions"
      ],
      "metadata": {
        "id": "x_Z6xlWOypOu"
      }
    },
    {
      "cell_type": "code",
      "source": [
        "# Test for bloodpressure\n",
        "\n",
        "test1 = bloodpressure(190, 80)\n",
        "test1"
      ],
      "metadata": {
        "colab": {
          "base_uri": "https://localhost:8080/"
        },
        "id": "C9ATPdEGysWR",
        "outputId": "c0fcbc8d-5ab9-448e-b5e3-689fdfa15187"
      },
      "execution_count": 4,
      "outputs": [
        {
          "output_type": "execute_result",
          "data": {
            "text/plain": [
              "270"
            ]
          },
          "metadata": {},
          "execution_count": 4
        }
      ]
    },
    {
      "cell_type": "code",
      "source": [
        "test2 = bloodsugar(200)\n",
        "test2"
      ],
      "metadata": {
        "colab": {
          "base_uri": "https://localhost:8080/",
          "height": 37
        },
        "id": "64IDusn5y-a8",
        "outputId": "3ecdb2e0-2cd5-42b8-836a-c31f17b09371"
      },
      "execution_count": 6,
      "outputs": [
        {
          "output_type": "execute_result",
          "data": {
            "text/plain": [
              "'Your blood value is 200'"
            ],
            "application/vnd.google.colaboratory.intrinsic+json": {
              "type": "string"
            }
          },
          "metadata": {},
          "execution_count": 6
        }
      ]
    },
    {
      "cell_type": "markdown",
      "source": [
        "#Loading packages"
      ],
      "metadata": {
        "id": "0uZqDRHQz9tS"
      }
    },
    {
      "cell_type": "code",
      "source": [
        "#Loading packages\n",
        "\n",
        "import pandas as pd\n",
        "import seaborn as sea\n",
        "import plotly as pl"
      ],
      "metadata": {
        "id": "Tulq0FddzOqA"
      },
      "execution_count": 7,
      "outputs": []
    },
    {
      "cell_type": "code",
      "source": [
        "!pip freeze > packages.txt"
      ],
      "metadata": {
        "id": "3hle41Czzg0z"
      },
      "execution_count": 8,
      "outputs": []
    },
    {
      "cell_type": "code",
      "source": [],
      "metadata": {
        "id": "5FBV9nde0CCh"
      },
      "execution_count": null,
      "outputs": []
    }
  ]
}